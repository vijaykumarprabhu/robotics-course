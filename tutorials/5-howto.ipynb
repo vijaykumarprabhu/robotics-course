{
 "cells": [
  {
   "cell_type": "markdown",
   "metadata": {},
   "source": [
    "# How to enable/disable collisions"
   ]
  },
  {
   "cell_type": "code",
   "execution_count": 1,
   "metadata": {},
   "outputs": [],
   "source": [
    "import sys\n",
    "sys.path.append('../build')\n",
    "import libry as ry\n",
    "import numpy as np\n",
    "import time"
   ]
  },
  {
   "cell_type": "code",
   "execution_count": 2,
   "metadata": {},
   "outputs": [],
   "source": [
    "C = ry.Config()\n",
    "C.addFile(\"../scenarios/pandasTable.g\")\n",
    "V = ry.ConfigurationViewer()\n",
    "V.setConfiguration(C)"
   ]
  },
  {
   "cell_type": "code",
   "execution_count": 3,
   "metadata": {},
   "outputs": [
    {
     "data": {
      "text/plain": [
       "[]"
      ]
     },
     "execution_count": 3,
     "metadata": {},
     "output_type": "execute_result"
    }
   ],
   "source": [
    "#no collisions so far:\n",
    "C.computeCollisions() #this calls broadphase collision detection\n",
    "C.getCollisions()     #this reports collisions (in algorithms, use features instead)"
   ]
  },
  {
   "cell_type": "code",
   "execution_count": 4,
   "metadata": {},
   "outputs": [],
   "source": [
    "#bring into collision:\n",
    "q = C.getJointState()\n",
    "\n",
    "for t in range(10):\n",
    "    [y,J] = C.evalFeature(ry.FS.positionDiff, [\"R_gripperCenter\", \"L_gripperCenter\"])\n",
    "    vel = J.T @ np.linalg.inv(J@J.T + 1e-2*np.eye(y.shape[0])) @ (-y);\n",
    "\n",
    "    q = q + .8*vel\n",
    "    C.setJointState(q)\n",
    "    V.setConfiguration(C)"
   ]
  },
  {
   "cell_type": "code",
   "execution_count": 5,
   "metadata": {},
   "outputs": [
    {
     "data": {
      "text/plain": [
       "[('L_frame', 'R_frame', 0.06561977608755995),\n",
       " ('L_panda_coll7', 'R_frame', 0.04685827145208207),\n",
       " ('L_gripper', 'R_frame', 0.06693238739998014),\n",
       " ('L_finger1', 'R_frame', 0.07271677669653415),\n",
       " ('L_frame', 'R_panda_coll7', 0.05791468160266697),\n",
       " ('L_panda_coll7', 'R_panda_coll7', -0.02988786580078831),\n",
       " ('L_gripper', 'R_panda_coll7', -0.01623162839226778),\n",
       " ('L_finger1', 'R_panda_coll7', 0.008563418986308732),\n",
       " ('L_frame', 'R_gripper', 0.09727276329523714),\n",
       " ('L_panda_coll7', 'R_gripper', 0.0236455457862735),\n",
       " ('L_gripper', 'R_gripper', -0.02),\n",
       " ('L_finger1', 'R_gripper', 0.0025749560240463706),\n",
       " ('L_finger2', 'R_gripper', 0.06869685467148554),\n",
       " ('L_panda_coll7', 'R_finger1', 0.06687111592144941),\n",
       " ('L_gripper', 'R_finger1', 0.0417058924117476),\n",
       " ('L_finger1', 'R_finger1', 0.05018380967751282),\n",
       " ('L_finger2', 'R_finger1', 0.05793201309129997),\n",
       " ('L_panda_coll7', 'R_finger2', 0.06268928253009355),\n",
       " ('L_gripper', 'R_finger2', 0.039854984947338926),\n",
       " ('L_finger1', 'R_finger2', 0.057931593611096205),\n",
       " ('L_finger2', 'R_finger2', 0.050184233531723035)]"
      ]
     },
     "execution_count": 5,
     "metadata": {},
     "output_type": "execute_result"
    }
   ],
   "source": [
    "C.computeCollisions() #this calls broadphase collision detection\n",
    "C.getCollisions(belowMargin=1.) "
   ]
  },
  {
   "cell_type": "code",
   "execution_count": 6,
   "metadata": {},
   "outputs": [
    {
     "data": {
      "text/plain": [
       "[('L_panda_coll7', 'R_panda_coll7', -0.02988786580078831),\n",
       " ('L_gripper', 'R_panda_coll7', -0.01623162839226778),\n",
       " ('L_gripper', 'R_gripper', -0.02)]"
      ]
     },
     "execution_count": 6,
     "metadata": {},
     "output_type": "execute_result"
    }
   ],
   "source": [
    "#those are the real penetrations:\n",
    "C.getCollisions(belowMargin=0.) "
   ]
  },
  {
   "cell_type": "code",
   "execution_count": 7,
   "metadata": {},
   "outputs": [],
   "source": [
    "#deactivate a collision flag!\n",
    "f = C.getFrame(\"R_gripper\")\n",
    "f.setContact(0)"
   ]
  },
  {
   "cell_type": "code",
   "execution_count": 8,
   "metadata": {},
   "outputs": [
    {
     "data": {
      "text/plain": [
       "[('L_panda_coll7', 'R_panda_coll7', -0.02988786580078831),\n",
       " ('L_gripper', 'R_panda_coll7', -0.01623162839226778)]"
      ]
     },
     "execution_count": 8,
     "metadata": {},
     "output_type": "execute_result"
    }
   ],
   "source": [
    "C.computeCollisions()\n",
    "C.getCollisions(belowMargin=0.) "
   ]
  },
  {
   "cell_type": "code",
   "execution_count": 9,
   "metadata": {},
   "outputs": [
    {
     "data": {
      "text/plain": [
       "(array([ 0.04611949]),\n",
       " array([[ -3.34276873e-01,  -2.32319413e-01,  -5.43192598e-01,\n",
       "           5.11465561e-01,  -8.59540334e-02,   1.69571803e-01,\n",
       "          -3.02775954e-03,   0.00000000e+00,  -2.31544435e-01,\n",
       "           5.73228417e-01,   4.52182786e-01,  -4.96589031e-01,\n",
       "           9.38756857e-03,  -8.77189874e-02,   1.50296671e-07,\n",
       "           0.00000000e+00]]))"
      ]
     },
     "execution_count": 9,
     "metadata": {},
     "output_type": "execute_result"
    }
   ],
   "source": [
    "#Note: this is exactly the sum of the above:\n",
    "C.evalFeature(ry.FS.accumulatedCollisions, [])"
   ]
  },
  {
   "cell_type": "code",
   "execution_count": 11,
   "metadata": {},
   "outputs": [
    {
     "data": {
      "text/plain": [
       "-0.04611949419305609"
      ]
     },
     "execution_count": 11,
     "metadata": {},
     "output_type": "execute_result"
    }
   ],
   "source": [
    "-0.02988786580078831-0.01623162839226778"
   ]
  },
  {
   "cell_type": "markdown",
   "metadata": {},
   "source": [
    "Notes:\n",
    "* The contact flag of frames is an integer: 0 = does not contribute to contact lists, 1 = always contributes, negative = only contributes to collision pairs that are topologically distant in the kinematic tree\n",
    "* WARNING: the broad phase collision engine is created at first call - You cannot enable collisions between objects that were disabled during first call of the collision engine\n",
    "* TODO: enable recreation of a fresh collision engine for a changed configuration"
   ]
  },
  {
   "cell_type": "markdown",
   "metadata": {},
   "source": [
    "# How to attach frames - faking grasps\n",
    "Note, this is not real grasping. Just editing the kinematic tree in your configuration"
   ]
  },
  {
   "cell_type": "code",
   "execution_count": null,
   "metadata": {},
   "outputs": [],
   "source": [
    "import os\n",
    "os._exit(0)"
   ]
  },
  {
   "cell_type": "code",
   "execution_count": 1,
   "metadata": {},
   "outputs": [],
   "source": [
    "import sys\n",
    "sys.path.append('../build')\n",
    "import libry as ry\n",
    "import numpy as np\n",
    "import time"
   ]
  },
  {
   "cell_type": "code",
   "execution_count": 4,
   "metadata": {},
   "outputs": [],
   "source": [
    "C = ry.Config()\n",
    "C.addFile(\"../scenarios/pandasTable.g\")\n",
    "V = ry.ConfigurationViewer()\n",
    "V.setConfiguration(C)"
   ]
  },
  {
   "cell_type": "code",
   "execution_count": 5,
   "metadata": {},
   "outputs": [],
   "source": [
    "C.attach(\"L_gripper\", \"R_gripper\")"
   ]
  },
  {
   "cell_type": "code",
   "execution_count": 13,
   "metadata": {},
   "outputs": [],
   "source": [
    "#move a bit around\n",
    "\n",
    "q = C.getJointState()\n",
    "\n",
    "for t in range(30):\n",
    "    q[0] = np.sin(t/10)\n",
    "    \n",
    "    C.setJointState(q)\n",
    "    V.setConfiguration(C)\n",
    "    time.sleep(0.1)"
   ]
  },
  {
   "cell_type": "code",
   "execution_count": null,
   "metadata": {},
   "outputs": [],
   "source": []
  }
 ],
 "metadata": {
  "kernelspec": {
   "display_name": "Python 3",
   "language": "python",
   "name": "python3"
  },
  "language_info": {
   "codemirror_mode": {
    "name": "ipython",
    "version": 3
   },
   "file_extension": ".py",
   "mimetype": "text/x-python",
   "name": "python",
   "nbconvert_exporter": "python",
   "pygments_lexer": "ipython3",
   "version": "3.6.9"
  }
 },
 "nbformat": 4,
 "nbformat_minor": 4
}
