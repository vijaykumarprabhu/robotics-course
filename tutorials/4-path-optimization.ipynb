{
 "cells": [
  {
   "cell_type": "markdown",
   "metadata": {},
   "source": [
    "# Path Optimization (KOMO)\n",
    "\n"
   ]
  },
  {
   "cell_type": "markdown",
   "metadata": {},
   "source": [
    "Let's setup a standard configuration. (Lock the window with \"Always on Top\".)"
   ]
  },
  {
   "cell_type": "code",
   "execution_count": 1,
   "metadata": {},
   "outputs": [],
   "source": [
    "import sys\n",
    "sys.path.append('../build')\n",
    "import numpy as np\n",
    "import libry as ry\n",
    "\n",
    "C = ry.Config()\n",
    "D = C.view()\n",
    "C.addFile('../rai-robotModels/pr2/pr2.g')\n",
    "C.addFile('../rai-robotModels/objects/kitchen.g')"
   ]
  },
  {
   "cell_type": "markdown",
   "metadata": {},
   "source": [
    "Let's add some objects"
   ]
  },
  {
   "cell_type": "code",
   "execution_count": 2,
   "metadata": {},
   "outputs": [
    {
     "data": {
      "text/plain": [
       "<libry.Frame at 0x7f7c2c09bea0>"
      ]
     },
     "execution_count": 2,
     "metadata": {},
     "output_type": "execute_result"
    }
   ],
   "source": [
    "C.addObject(name='item1', parent='sink1', shape=ry.ST.ssBox, pos=[-.1, -.1, .52], size=[.1, .1, .25, .02], color=[1., 0., 0.])\n",
    "C.addObject('item2', 'sink1', ry.ST.ssBox, [.1, .1, .25, .02], [1., 1., 0.], [.1, .1, .52])\n",
    "C.addObject('tray', 'stove1', ry.ST.ssBox, [.2, .2, .05, .02], [0., 1., 0.], [.0, .0, .42])"
   ]
  },
  {
   "cell_type": "markdown",
   "metadata": {},
   "source": [
    "compute a collision free path to touch object item1 with pr2L:"
   ]
  },
  {
   "cell_type": "code",
   "execution_count": 3,
   "metadata": {},
   "outputs": [
    {
     "data": {
      "text/plain": [
       "[{'x_dim': 500, 'T': 20, 'k_order': 2, 'tau': 0.5, 'useSwift': True},\n",
       " {'order': 2.0,\n",
       "  'type': 'sos',\n",
       "  'feature': 'qItself#46',\n",
       "  'vars': [1, 1, 1, 1, 1, 1, 1, 1, 1, 1, 1, 1, 1, 1, 1, 1, 1, 1, 1, 1],\n",
       "  'sos_sumOfSqr': 3.2399050927598125},\n",
       " {'order': 0.0,\n",
       "  'type': 'eq',\n",
       "  'feature': 'ProxyCost',\n",
       "  'vars': [1, 1, 1, 1, 1, 1, 1, 1, 1, 1, 1, 1, 1, 1, 1, 1, 1, 1, 1, 1],\n",
       "  'eq_sumOfAbs': 0.0},\n",
       " {'order': 0.0,\n",
       "  'type': 'ineq',\n",
       "  'feature': 'qLimits',\n",
       "  'vars': [1, 1, 1, 1, 1, 1, 1, 1, 1, 1, 1, 1, 1, 1, 1, 1, 1, 1, 1, 1],\n",
       "  'inEq_sumOfPos': 0.508087444626923},\n",
       " {'order': 0.0,\n",
       "  'type': 'eq',\n",
       "  'feature': 'PairCollision-pr2R-item1',\n",
       "  'vars': [0, 0, 0, 0, 0, 0, 0, 0, 0, 0, 0, 0, 0, 0, 0, 0, 0, 0, 0, 1],\n",
       "  'eq_sumOfAbs': 0.09677293160961949},\n",
       " {'order': 0.0,\n",
       "  'type': 'sos',\n",
       "  'feature': 'Default-0-posDiff-endeffWorkspace-item1',\n",
       "  'vars': [0, 0, 0, 0, 0, 0, 0, 0, 0, 0, 0, 0, 0, 0, 0, 0, 0, 1, 1, 1],\n",
       "  'sos_sumOfSqr': 0.7583443464693703},\n",
       " {'order': 1.0,\n",
       "  'type': 'eq',\n",
       "  'feature': 'qItself-ALL',\n",
       "  'vars': [0, 0, 0, 0, 0, 0, 0, 0, 0, 0, 0, 0, 0, 0, 0, 0, 0, 0, 0, 1],\n",
       "  'eq_sumOfAbs': 0.13196099315839513}]"
      ]
     },
     "execution_count": 3,
     "metadata": {},
     "output_type": "execute_result"
    }
   ],
   "source": [
    "X0 = C.getFrameState()\n",
    "\n",
    "obj1 = \"item1\";\n",
    "arm = \"pr2R\";\n",
    "\n",
    "komo = C.komo_path(1.,20, 10., True);\n",
    "\n",
    "komo.addObjective([], ry.FS.accumulatedCollisions, [], ry.OT.eq);\n",
    "komo.addObjective([], ry.FS.jointLimits, [], ry.OT.ineq);\n",
    "komo.addObjective([1.], ry.FS.distance, [arm, obj1], ry.OT.eq, [1e2]);\n",
    "komo.addObjective([.9,1.], ry.FS.positionDiff, [\"endeffWorkspace\", obj1], ry.OT.sos, [1e0]);\n",
    "komo.addObjective(time=[1.], feature=ry.FS.qItself, type=ry.OT.eq, order=1);\n",
    "\n",
    "komo.optimize()\n",
    "komo.getReport()"
   ]
  },
  {
   "cell_type": "code",
   "execution_count": 4,
   "metadata": {},
   "outputs": [],
   "source": [
    "V = komo.view()"
   ]
  },
  {
   "cell_type": "code",
   "execution_count": 5,
   "metadata": {},
   "outputs": [],
   "source": [
    "V.playVideo()"
   ]
  },
  {
   "cell_type": "code",
   "execution_count": 6,
   "metadata": {},
   "outputs": [],
   "source": [
    "V=0"
   ]
  },
  {
   "cell_type": "markdown",
   "metadata": {},
   "source": [
    "Best way to read out: grab a configuration into K and analyze it here:"
   ]
  },
  {
   "cell_type": "code",
   "execution_count": 7,
   "metadata": {},
   "outputs": [
    {
     "data": {
      "text/plain": [
       "array([ -5.32626777e-01,   9.07031310e-01,   1.83634182e+00,\n",
       "         1.00014420e-01,   2.34389199e-03,  -2.27004614e-03,\n",
       "        -4.20006242e-01,   1.00212686e+00,   3.94059158e-01,\n",
       "         2.86441696e-01,   5.01786177e-01,  -9.60687389e-01,\n",
       "         1.00650061e+00,  -8.48201914e-01,  -1.92412890e+00,\n",
       "        -1.71056433e+00,   1.49739361e+00,  -2.90032004e-01,\n",
       "        -4.93138984e-01,  -5.01598158e-01,   5.02416578e-01,\n",
       "         9.66803648e-02,   9.47403074e-02,   1.37076596e-02,\n",
       "        -1.46792223e-04])"
      ]
     },
     "execution_count": 7,
     "metadata": {},
     "output_type": "execute_result"
    }
   ],
   "source": [
    "C.setFrameState( komo.getConfiguration(19) )\n",
    "C.getJointState()"
   ]
  },
  {
   "cell_type": "code",
   "execution_count": null,
   "metadata": {},
   "outputs": [],
   "source": []
  },
  {
   "cell_type": "code",
   "execution_count": null,
   "metadata": {},
   "outputs": [],
   "source": []
  }
 ],
 "metadata": {
  "kernelspec": {
   "display_name": "Python 3",
   "language": "python",
   "name": "python3"
  },
  "language_info": {
   "codemirror_mode": {
    "name": "ipython",
    "version": 3
   },
   "file_extension": ".py",
   "mimetype": "text/x-python",
   "name": "python",
   "nbconvert_exporter": "python",
   "pygments_lexer": "ipython3",
   "version": "3.6.9"
  }
 },
 "nbformat": 4,
 "nbformat_minor": 2
}
