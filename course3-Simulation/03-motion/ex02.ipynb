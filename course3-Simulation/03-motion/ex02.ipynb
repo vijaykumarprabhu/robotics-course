{
 "cells": [
  {
   "cell_type": "code",
   "execution_count": 173,
   "metadata": {},
   "outputs": [],
   "source": [
    "import sys\n",
    "sys.path.append('../../build')\n",
    "import numpy as np\n",
    "import libry as ry"
   ]
  },
  {
   "cell_type": "code",
   "execution_count": 249,
   "metadata": {},
   "outputs": [],
   "source": [
    "C = 0\n",
    "V = 0"
   ]
  },
  {
   "cell_type": "code",
   "execution_count": 250,
   "metadata": {},
   "outputs": [],
   "source": [
    "# Here we do not need a simulation world\n",
    "# adding a configuration world\n",
    "C = ry.Config()\n",
    "C.addFile(\"../../scenarios/pandasTable.g\")\n",
    "V = ry.ConfigurationViewer()\n",
    "V.setConfiguration(C)\n",
    "X0 = C.getFrameState()"
   ]
  },
  {
   "cell_type": "code",
   "execution_count": 251,
   "metadata": {},
   "outputs": [],
   "source": [
    "obj = C.addFrame(\"object\")\n",
    "# obj.setPosition([-0.1,0.2,1.5])\n",
    "# obj.setQuaternion([1,0,0,0])\n",
    "# obj.setPosition([.8,0,1.5])\n",
    "# obj.setQuaternion([1,0,1,0])\n",
    "obj.setPosition([-0.3,0.05,1.5])\n",
    "obj.setShape(ry.ST.ssBox, [0.1, 0.01, 0.2, .02])\n",
    "obj.setColor([1,0,1])\n",
    "V.setConfiguration(C)"
   ]
  },
  {
   "cell_type": "code",
   "execution_count": 248,
   "metadata": {},
   "outputs": [],
   "source": [
    "obj.setPosition([.8,0,1.5])\n",
    "obj.setQuaternion([1,0,0,0])\n",
    "V.setConfiguration(C)"
   ]
  },
  {
   "cell_type": "code",
   "execution_count": 252,
   "metadata": {},
   "outputs": [],
   "source": [
    "R_gripper = C.frame(\"R_gripper\")\n",
    "L_gripper = C.frame(\"L_gripper\")\n",
    "R_gripper.setContact(1)\n",
    "L_gripper.setContact(1)\n",
    "obj.setContact(1)"
   ]
  },
  {
   "cell_type": "code",
   "execution_count": 253,
   "metadata": {},
   "outputs": [],
   "source": [
    "IK = C.komo_IK(False)\n",
    "# IK.addObjective([1.], ry.FS.accumulatedCollisions, [], ry.OT.ineq, [1e2])\n",
    "# IK.addObjective([1.], ry.FS.scalarProductXX, [\"L_gripperCenter\", \"R_gripperCenter\"], ry.OT.sos, [1e2]);\n",
    "# IK.addObjective([1.], ry.FS.scalarProductXZ, [\"L_gripperCenter\", \"R_gripperCenter\"], ry.OT.sos, [1e2]);\n",
    "\n",
    "\n",
    "#IK.addObjective([1.], ry.FS.positionDiff, [\"L_gripperCenter\", \"object\"], ry.OT.sos, [1e2]);\n",
    "#IK.addObjective([1.], ry.FS.positionDiff, [\"R_gripperCenter\", \"object\"], ry.OT.eq, [1e2]);\n",
    "#IK.addObjective([1.], ry.FS.scalarProductXX, [\"R_gripperCenter\", \"object\"], ry.OT.eq, [1e2]);\n",
    "#IK.addObjective([1.], ry.FS.scalarProductXZ, [\"R_gripperCenter\", \"object\"], ry.OT.eq, [1e2]);\n",
    "#IK.addObjective([1.], ry.FS.scalarProductYZ, [\"L_gripperCenter\", \"object\"], ry.OT.eq, [1e2]);\n",
    "#IK.addObjective([1.], ry.FS.scalarProductXX, [\"L_gripperCenter\", \"object\"], ry.OT.eq, [1e2]);\n",
    "\n",
    "#IK.addObjective(type=ry.OT.sos,   feature=ry.FS.positionDiff, frames=['R_gripperCenter', 'object'], scale=[1e3])\n",
    "IK.addObjective(type=ry.OT.sos,   feature=ry.FS.positionDiff, frames=['L_gripperCenter', 'object'], scale=[1e3], target=[0,0,0.1])\n",
    "#IK.addObjective(type=ry.OT.eq,   feature=ry.FS.positionDiff, frames=['L_gripperCenter', 'object'], scaleTrans=[[0,0,0.1]], target=[0,0,-0.1])\n",
    "#IK.addObjective(type=ry.OT.ineq, feature=ry.FS.positionDiff, frames=['R_gripperCenter', 'object'], scaleTrans=[[0,0,1]], target=[0,0,.05])\n",
    "#IK.addObjective(type=ry.OT.ineq, feature=ry.FS.positionDiff, frames=['R_gripperCenter', 'object'], scaleTrans=[[0,0,-1]], target=[0,0,-.05])\n",
    "IK.addObjective(type=ry.OT.eq,  feature=ry.FS.scalarProductXZ, frames=['object', 'R_gripperCenter'], target=[1])\n",
    "#IK.addObjective(type=ry.OT.eq,   feature=ry.FS.scalarProductXZ, frames=['R_gripperCenter', 'object'])\n",
    "\n",
    "\n",
    "#IK.addObjective(type=ry.OT.eq,   feature=ry.FS.scalarProductXZ, frames=['L_gripperCenter', 'object'])\n",
    "IK.addObjective(type=ry.OT.eq,   feature=ry.FS.scalarProductZZ, frames=['L_gripperCenter', 'object'], target=[1])\n",
    "\n",
    "\n",
    "\n",
    "IK.optimize(True)\n",
    "IK.getReport()\n",
    "C.setFrameState( IK.getConfiguration(0) )\n",
    "V.setConfiguration(C) #to update your model display"
   ]
  },
  {
   "cell_type": "code",
   "execution_count": 238,
   "metadata": {},
   "outputs": [],
   "source": [
    "C.setFrameState(X0)\n",
    "V.setConfiguration(C)"
   ]
  },
  {
   "cell_type": "code",
   "execution_count": null,
   "metadata": {},
   "outputs": [],
   "source": []
  },
  {
   "cell_type": "code",
   "execution_count": null,
   "metadata": {},
   "outputs": [],
   "source": []
  }
 ],
 "metadata": {
  "kernelspec": {
   "display_name": "Python 3",
   "language": "python",
   "name": "python3"
  },
  "language_info": {
   "codemirror_mode": {
    "name": "ipython",
    "version": 3
   },
   "file_extension": ".py",
   "mimetype": "text/x-python",
   "name": "python",
   "nbconvert_exporter": "python",
   "pygments_lexer": "ipython3",
   "version": "3.6.9"
  }
 },
 "nbformat": 4,
 "nbformat_minor": 2
}
