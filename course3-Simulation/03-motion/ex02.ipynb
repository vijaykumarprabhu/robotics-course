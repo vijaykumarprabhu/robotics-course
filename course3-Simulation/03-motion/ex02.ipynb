{
 "cells": [
  {
   "cell_type": "code",
   "execution_count": 102,
   "metadata": {},
   "outputs": [],
   "source": [
    "import sys\n",
    "sys.path.append('../../build')\n",
    "import numpy as np\n",
    "import libry as ry\n",
    "import time"
   ]
  },
  {
   "cell_type": "code",
   "execution_count": 103,
   "metadata": {},
   "outputs": [],
   "source": [
    "C = 0\n",
    "V = 0"
   ]
  },
  {
   "cell_type": "code",
   "execution_count": 104,
   "metadata": {},
   "outputs": [],
   "source": [
    "# Here we do not need a simulation world\n",
    "# adding a configuration world\n",
    "C = ry.Config()\n",
    "C.addFile(\"../../scenarios/pandasTable.g\")\n",
    "V = ry.ConfigurationViewer()\n",
    "V.setConfiguration(C)\n",
    "X0 = C.getFrameState()"
   ]
  },
  {
   "cell_type": "code",
   "execution_count": 105,
   "metadata": {},
   "outputs": [],
   "source": [
    "obj = C.addFrame(\"object\")\n",
    "obj.setPosition([-0.3,0.05,1.0])\n",
    "obj.setQuaternion([1,0,0,0])\n",
    "obj.setShape(ry.ST.ssBox, [0.1, 0.01, 0.2, .02])\n",
    "obj.setColor([1,0,1])\n",
    "V.setConfiguration(C)"
   ]
  },
  {
   "cell_type": "code",
   "execution_count": 106,
   "metadata": {},
   "outputs": [],
   "source": [
    "R_gripper = C.frame(\"R_gripper\")\n",
    "L_gripper = C.frame(\"L_gripper\")\n",
    "R_gripper.setContact(1)\n",
    "L_gripper.setContact(1)\n",
    "obj.setContact(1)"
   ]
  },
  {
   "cell_type": "code",
   "execution_count": 107,
   "metadata": {},
   "outputs": [
    {
     "name": "stdout",
     "output_type": "stream",
     "text": [
      "[ 0. -1.  0. -2.  0.  2.  0.  0.  0. -1.  0. -2.  0.  2.  0.  0.]\n"
     ]
    }
   ],
   "source": [
    "C.getJointState()\n",
    "q0_1,J = C.evalFeature(ry.FS.qItself, [])\n",
    "print(q0_1)"
   ]
  },
  {
   "cell_type": "code",
   "execution_count": 108,
   "metadata": {},
   "outputs": [],
   "source": [
    "#1.a\n",
    "\n",
    "IK = C.komo_IK(False)\n",
    "\n",
    "IK.addObjective([1.], ry.FS.accumulatedCollisions, [], ry.OT.ineq, [1e2])\n",
    "IK.addObjective(type=ry.OT.sos, feature=ry.FS.positionDiff, frames=['R_gripperCenter', 'L_gripperCenter'], scale=[1e3])\n",
    "IK.addObjective(type=ry.OT.sos, feature=ry.FS.scalarProductZZ, frames=['R_gripperCenter', 'L_gripperCenter'], target=[-1])\n",
    "IK.addObjective(type=ry.OT.eq, feature=ry.FS.scalarProductXX, frames=['R_gripperCenter', 'L_gripperCenter'])\n",
    "IK.optimize(True)\n",
    "C.setFrameState( IK.getConfiguration(0) )\n",
    "V.setConfiguration(C) #to update your model display\n",
    "#IK.getReport()"
   ]
  },
  {
   "cell_type": "code",
   "execution_count": 109,
   "metadata": {},
   "outputs": [
    {
     "name": "stdout",
     "output_type": "stream",
     "text": [
      "[-0.66607716 -0.8754499  -0.51910369 -1.70960973 -0.72183523  2.4028709\n",
      "  0.03224742  0.00694541  0.67252373 -0.85044695  0.53468959 -1.70423721\n",
      "  0.7202108   2.43329536 -0.03302998 -0.00603202]\n"
     ]
    }
   ],
   "source": [
    "C.getJointState()\n",
    "qT_1,J = C.evalFeature(ry.FS.qItself, [])\n",
    "print(qT_1)"
   ]
  },
  {
   "cell_type": "code",
   "execution_count": 110,
   "metadata": {},
   "outputs": [],
   "source": [
    "#1.b\n",
    "\n",
    "IK = C.komo_IK(False)\n",
    "\n",
    "\n",
    "IK.addObjective([1.], ry.FS.accumulatedCollisions, [], ry.OT.ineq, [1e2])\n",
    "\n",
    "IK.addObjective(type=ry.OT.sos,   feature=ry.FS.positionDiff, frames=['R_gripperCenter', 'object'], scale=[1e3], target=[0.05,0,0])\n",
    "IK.addObjective(type=ry.OT.sos,   feature=ry.FS.positionRel, frames=['L_gripperCenter', 'object'], scale=[1e3], target=[0,0,0.1])\n",
    "\n",
    "IK.addObjective(type=ry.OT.eq,  feature=ry.FS.scalarProductXZ, frames=['object', 'R_gripperCenter'], target=[1])\n",
    "IK.addObjective(type=ry.OT.eq,   feature=ry.FS.scalarProductXZ, frames=['R_gripperCenter', 'object'])\n",
    "\n",
    "\n",
    "IK.addObjective(type=ry.OT.eq,   feature=ry.FS.scalarProductYY, frames=['L_gripperCenter', 'object'])\n",
    "IK.addObjective(type=ry.OT.eq,   feature=ry.FS.scalarProductZZ, frames=['L_gripperCenter', 'object'], target=[1])\n",
    "\n",
    "IK.optimize(True)\n",
    "C.setFrameState( IK.getConfiguration(0) )\n",
    "V.setConfiguration(C) #to update your model display\n",
    "#IK.getReport()"
   ]
  },
  {
   "cell_type": "code",
   "execution_count": 111,
   "metadata": {},
   "outputs": [
    {
     "name": "stdout",
     "output_type": "stream",
     "text": [
      "[-4.36192048e-01 -3.11451870e-01  1.94972921e-01 -2.22555120e+00\n",
      "  6.54857640e-02  1.92010499e+00  2.08413041e+00  1.77908011e-03\n",
      " -7.82368204e-02  1.52151077e+00  1.59098162e+00 -1.69271899e+00\n",
      "  7.61884439e-01 -3.10174135e+00 -1.49625726e+00 -5.67590932e-04]\n"
     ]
    }
   ],
   "source": [
    "C.getJointState()\n",
    "qT_2,J = C.evalFeature(ry.FS.qItself, [])\n",
    "print(qT_2)"
   ]
  },
  {
   "cell_type": "code",
   "execution_count": 119,
   "metadata": {},
   "outputs": [],
   "source": [
    "C.setFrameState(X0)\n",
    "V.setConfiguration(C)"
   ]
  },
  {
   "cell_type": "markdown",
   "metadata": {},
   "source": [
    "## Path Planning"
   ]
  },
  {
   "cell_type": "code",
   "execution_count": 113,
   "metadata": {},
   "outputs": [],
   "source": [
    "#2.a,b\n",
    "\n",
    "q0 = q0_1  \n",
    "qT = qT_1 \n",
    "\n",
    "#q0 = qT_1\n",
    "#qT = qT_2\n",
    "\n",
    "T = 5.0\n",
    "\n",
    "for t in np.arange(0,T,0.1):\n",
    "    qt = q0 + (0.5 *(1-np.cos(np.pi*t / T))*(qT - q0) )\n",
    "    C.setJointState(qt)\n",
    "    V.setConfiguration(C)\n",
    "    time.sleep(0.1)"
   ]
  },
  {
   "cell_type": "markdown",
   "metadata": {},
   "source": [
    "## Path Optimization"
   ]
  },
  {
   "cell_type": "code",
   "execution_count": 120,
   "metadata": {},
   "outputs": [],
   "source": [
    "obj.setPosition([0.0,0,1.5])\n",
    "V.setConfiguration(C)"
   ]
  },
  {
   "cell_type": "code",
   "execution_count": 121,
   "metadata": {},
   "outputs": [
    {
     "data": {
      "text/plain": [
       "[{'x_dim': 320, 'T': 20, 'k_order': 2, 'tau': 0.25, 'useSwift': True},\n",
       " {'order': 0.0,\n",
       "  'type': 'eq',\n",
       "  'feature': 'QuaternionNorms',\n",
       "  'vars': [1, 1, 1, 1, 1, 1, 1, 1, 1, 1, 1, 1, 1, 1, 1, 1, 1, 1, 1, 1],\n",
       "  'eq_sumOfAbs': 0.0},\n",
       " {'order': 2.0,\n",
       "  'type': 'sos',\n",
       "  'feature': 'qItself#32',\n",
       "  'vars': [1, 1, 1, 1, 1, 1, 1, 1, 1, 1, 1, 1, 1, 1, 1, 1, 1, 1, 1, 1],\n",
       "  'sos_sumOfSqr': 1.1868847833371357},\n",
       " {'order': 0.0,\n",
       "  'type': 'sos',\n",
       "  'feature': 'qItself#32',\n",
       "  'vars': [1, 1, 1, 1, 1, 1, 1, 1, 1, 1, 1, 1, 1, 1, 1, 1, 1, 1, 1, 1],\n",
       "  'sos_sumOfSqr': 0.0023761244243520924},\n",
       " {'order': 0.0,\n",
       "  'type': 'ineq',\n",
       "  'feature': 'ProxyCost',\n",
       "  'vars': [1, 1, 1, 1, 1, 1, 1, 1, 1, 1, 1, 1, 1, 1, 1, 1, 1, 1, 1, 1],\n",
       "  'inEq_sumOfPos': 4.80041399929243e-06},\n",
       " {'order': 0.0,\n",
       "  'type': 'sos',\n",
       "  'feature': 'Default-0-posDiff-R_gripperCenter-object',\n",
       "  'vars': [0, 0, 0, 0, 0, 0, 0, 0, 0, 0, 0, 0, 0, 0, 0, 0, 0, 0, 0, 1],\n",
       "  'sos_sumOfSqr': 2.961593071235651e-05},\n",
       " {'order': 0.0,\n",
       "  'type': 'sos',\n",
       "  'feature': 'Default-0-posDiff-L_gripperCenter-object',\n",
       "  'vars': [0, 0, 0, 0, 0, 0, 0, 0, 0, 0, 0, 0, 0, 0, 0, 0, 0, 0, 0, 1],\n",
       "  'sos_sumOfSqr': 305.95293921487155},\n",
       " {'order': 0.0,\n",
       "  'type': 'eq',\n",
       "  'feature': 'Default-0-vecAlign-object-R_gripperCenter',\n",
       "  'vars': [0, 0, 0, 0, 0, 0, 0, 0, 0, 0, 0, 0, 0, 0, 0, 0, 0, 0, 0, 1],\n",
       "  'eq_sumOfAbs': 2.484024218918357e-05},\n",
       " {'order': 0.0,\n",
       "  'type': 'eq',\n",
       "  'feature': 'Default-0-vecAlign-R_gripperCenter-object',\n",
       "  'vars': [0, 0, 0, 0, 0, 0, 0, 0, 0, 0, 0, 0, 0, 0, 0, 0, 0, 0, 0, 1],\n",
       "  'eq_sumOfAbs': 4.935387691307191e-07},\n",
       " {'order': 0.0,\n",
       "  'type': 'eq',\n",
       "  'feature': 'Default-0-vecAlign-L_gripperCenter-object',\n",
       "  'vars': [0, 0, 0, 0, 0, 0, 0, 0, 0, 0, 0, 0, 0, 0, 0, 0, 0, 0, 0, 1],\n",
       "  'eq_sumOfAbs': 2.0352931081935033e-05},\n",
       " {'order': 0.0,\n",
       "  'type': 'eq',\n",
       "  'feature': 'Default-0-vecAlign-L_gripperCenter-object',\n",
       "  'vars': [0, 0, 0, 0, 0, 0, 0, 0, 0, 0, 0, 0, 0, 0, 0, 0, 0, 0, 0, 1],\n",
       "  'eq_sumOfAbs': 0.0027195356211298094},\n",
       " {'order': 1.0,\n",
       "  'type': 'eq',\n",
       "  'feature': 'qItself-ALL',\n",
       "  'vars': [0, 0, 0, 0, 0, 0, 0, 0, 0, 0, 0, 0, 0, 0, 0, 0, 0, 0, 0, 1],\n",
       "  'eq_sumOfAbs': 2.2368950654259347e-06}]"
      ]
     },
     "execution_count": 121,
     "metadata": {},
     "output_type": "execute_result"
    }
   ],
   "source": [
    "# we want to optimize a single step (1 phase, 1 step/phase, duration=1, k_order=1)\n",
    "\n",
    "komo = C.komo_path(1.,20, 5., True) \n",
    "\n",
    "komo.addObjective([], ry.FS.accumulatedCollisions, [], ry.OT.ineq, [1e2])\n",
    "\n",
    "komo.addObjective([1.], ry.FS.positionDiff, [\"R_gripperCenter\", \"object\"], ry.OT.sos, [1e2],target=[0.05,0,0])\n",
    "komo.addObjective([1.], ry.FS.positionDiff, [\"L_gripperCenter\", \"object\"], ry.OT.sos, [1e2],target=[0,0,0.1])\n",
    "\n",
    "komo.addObjective([1.], ry.FS.scalarProductXZ, [\"object\", \"R_gripperCenter\"], ry.OT.eq, target=[1])\n",
    "komo.addObjective([1.], ry.FS.scalarProductXZ, [\"R_gripperCenter\", \"object\"], ry.OT.eq)\n",
    "\n",
    "komo.addObjective([1.], ry.FS.scalarProductYY, [\"L_gripperCenter\", \"object\"], ry.OT.eq)\n",
    "komo.addObjective([1.], ry.FS.scalarProductZZ, [\"L_gripperCenter\", \"object\"], ry.OT.eq, target=[1])\n",
    "\n",
    "komo.addObjective(time=[1.], feature=ry.FS.qItself, type=ry.OT.eq, order=1);\n",
    "komo.optimize(True)\n",
    "komo.getReport()"
   ]
  },
  {
   "cell_type": "code",
   "execution_count": 122,
   "metadata": {},
   "outputs": [],
   "source": [
    "V = komo.view()"
   ]
  },
  {
   "cell_type": "code",
   "execution_count": 123,
   "metadata": {},
   "outputs": [],
   "source": [
    "V.playVideo()"
   ]
  },
  {
   "cell_type": "code",
   "execution_count": 124,
   "metadata": {},
   "outputs": [
    {
     "data": {
      "text/plain": [
       "(array([4.800414e-08]),\n",
       " array([[ 0.09733172,  0.64493663,  0.06723702, -0.30989182,  0.03348602,\n",
       "          0.02165985,  0.04504148,  0.        ,  0.        ,  0.        ,\n",
       "          0.        ,  0.        ,  0.        ,  0.        ,  0.        ,\n",
       "          0.        ]]))"
      ]
     },
     "execution_count": 124,
     "metadata": {},
     "output_type": "execute_result"
    }
   ],
   "source": [
    "C.setFrameState(komo.getConfiguration(19))\n",
    "C.getJointState()\n",
    "V.setConfiguration(C)\n",
    "coll = C.feature(ry.FS.accumulatedCollisions, [])\n",
    "C.computeCollisions() \n",
    "coll.eval(C)"
   ]
  },
  {
   "cell_type": "code",
   "execution_count": 125,
   "metadata": {},
   "outputs": [],
   "source": [
    "C = 0\n",
    "V = 0"
   ]
  },
  {
   "cell_type": "code",
   "execution_count": null,
   "metadata": {},
   "outputs": [],
   "source": []
  }
 ],
 "metadata": {
  "kernelspec": {
   "display_name": "Python 3",
   "language": "python",
   "name": "python3"
  },
  "language_info": {
   "codemirror_mode": {
    "name": "ipython",
    "version": 3
   },
   "file_extension": ".py",
   "mimetype": "text/x-python",
   "name": "python",
   "nbconvert_exporter": "python",
   "pygments_lexer": "ipython3",
   "version": "3.6.9"
  }
 },
 "nbformat": 4,
 "nbformat_minor": 2
}
