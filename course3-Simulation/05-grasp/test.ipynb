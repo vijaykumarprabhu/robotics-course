{
 "cells": [
  {
   "cell_type": "code",
   "execution_count": 11,
   "metadata": {},
   "outputs": [
    {
     "name": "stdout",
     "output_type": "stream",
     "text": [
      "[[[299.5 297.5  11. ]]]\n"
     ]
    },
    {
     "data": {
      "text/plain": [
       "113"
      ]
     },
     "execution_count": 11,
     "metadata": {},
     "output_type": "execute_result"
    }
   ],
   "source": [
    "import cv2 as cv\n",
    "import numpy as np\n",
    "\n",
    "\n",
    "img = cv.imread('robot_per.png')\n",
    "cv.imshow('check', img)\n",
    "hsv = cv.cvtColor(img, cv.COLOR_BGR2HSV)\n",
    "lower_red = np.array([0,120,70])\n",
    "upper_red = np.array([10,255,255])\n",
    "\n",
    "mask1 = cv.inRange(hsv, lower_red, upper_red)\n",
    "\n",
    "# second red component\n",
    "lower_red = np.array([170,120,70])\n",
    "upper_red = np.array([180,255,255])\n",
    "mask2 = cv.inRange(hsv,lower_red,upper_red)\n",
    "\n",
    "\n",
    "\n",
    "\n",
    "# combine mask ( + does or operation) to generate binary image with white as red color\n",
    "mask = mask1 + mask2\n",
    "if len(mask)>0: cv.imshow('OPENCV - binary', mask)\n",
    "# circles = cv.HoughCircles(mask, cv.HOUGH_GRADIENT, 1,20,\n",
    "#                             param1=50,param2=30,minRadius=0,maxRadius=0)\n",
    "\n",
    "\n",
    "#ab = cv.GaussianBlur(mask,(9,9),3,3)\n",
    "\n",
    "\n",
    "weighted_mask = cv.addWeighted(mask1, 1.0, mask2, 1.0, 0.0)\n",
    "\n",
    "# then the result is blurred\n",
    "blurred_mask = cv.GaussianBlur(weighted_mask,(9,9),3,3)\n",
    "\n",
    "# some morphological operations (closing) to remove small blobs \n",
    "erode_element = cv.getStructuringElement(cv.MORPH_RECT, (3, 3))\n",
    "dilate_element = cv.getStructuringElement(cv.MORPH_RECT, (8, 8))\n",
    "eroded_mask = cv.erode(blurred_mask,erode_element)\n",
    "dilated_mask = cv.dilate(eroded_mask,dilate_element)\n",
    "\n",
    "\n",
    "\n",
    "\n",
    "circles = cv.HoughCircles(dilated_mask, cv.HOUGH_GRADIENT, 1, 150, param1=100, param2=20, minRadius=0)\n",
    "print(circles)\n",
    "black_img = np.zeros(img.shape)\n",
    "if circles is not None:\n",
    "    for circle in circles[0, :]:\n",
    "        circled_orig = cv.circle(black_img, (circle[0], circle[1]), circle[2], (255,255,255),thickness=-1)\n",
    "        \n",
    "    \n",
    "    \n",
    "    \n",
    "    #circled_orig_grey = cv.cvtColor(circled_orig, cv.COLOR_BGR2GRAY)\n",
    "    circled_orig_blur = cv.GaussianBlur(circled_orig[:,:,0],(3,3),3,3)\n",
    "    cv.imshow(\"circle_mask\", circled_orig_blur)\n",
    "\n",
    "# print(circles)\n",
    "# for i in circles[0,:]:\n",
    "#     # draw the outer circle\n",
    "#     cv2.circle(cimg,(i[0],i[1]),i[2],(0,255,0),2)\n",
    "#     # draw the center of the circle\n",
    "#     cv2.circle(cimg,(i[0],i[1]),2,(0,0,255),3)\n",
    "# contours, hierarchy = cv.findContours(mask, cv.RETR_TREE, cv.CHAIN_APPROX_SIMPLE)\n",
    "# segmented_image = cv.drawContours(img, contours, -1, (0, 255, 0), 2)\n",
    "\n",
    "# if len(segmented_image)>0: cv.imshow('OPENCV - contours', segmented_image)\n",
    "\n",
    "\n",
    "cv.waitKey(0)"
   ]
  },
  {
   "cell_type": "code",
   "execution_count": null,
   "metadata": {},
   "outputs": [],
   "source": [
    "cv.destroyAllWindows()"
   ]
  },
  {
   "cell_type": "code",
   "execution_count": 17,
   "metadata": {},
   "outputs": [],
   "source": [
    "x,y = np.where(circled_orig_blur)"
   ]
  },
  {
   "cell_type": "code",
   "execution_count": 27,
   "metadata": {},
   "outputs": [
    {
     "data": {
      "text/plain": [
       "array([285, 285, 285, 286, 286, 286, 286, 286, 286, 286, 286, 286, 286,\n",
       "       286, 287, 287, 287, 287, 287, 287, 287, 287, 287, 287, 287, 287,\n",
       "       287, 287, 287, 288, 288, 288, 288, 288, 288, 288, 288, 288, 288,\n",
       "       288, 288, 288, 288, 288, 288, 288, 289, 289, 289, 289, 289, 289,\n",
       "       289, 289, 289, 289, 289, 289, 289, 289, 289, 289, 289, 289, 289,\n",
       "       290, 290, 290, 290, 290, 290, 290, 290, 290, 290, 290, 290, 290,\n",
       "       290, 290, 290, 290, 290, 290, 290, 290, 291, 291, 291, 291, 291,\n",
       "       291, 291, 291, 291, 291, 291, 291, 291, 291, 291, 291, 291, 291,\n",
       "       291, 291, 291, 292, 292, 292, 292, 292, 292, 292, 292, 292, 292,\n",
       "       292, 292, 292, 292, 292, 292, 292, 292, 292, 292, 292, 292, 292,\n",
       "       293, 293, 293, 293, 293, 293, 293, 293, 293, 293, 293, 293, 293,\n",
       "       293, 293, 293, 293, 293, 293, 293, 293, 293, 293, 294, 294, 294,\n",
       "       294, 294, 294, 294, 294, 294, 294, 294, 294, 294, 294, 294, 294,\n",
       "       294, 294, 294, 294, 294, 294, 294, 295, 295, 295, 295, 295, 295,\n",
       "       295, 295, 295, 295, 295, 295, 295, 295, 295, 295, 295, 295, 295,\n",
       "       295, 295, 295, 295, 296, 296, 296, 296, 296, 296, 296, 296, 296,\n",
       "       296, 296, 296, 296, 296, 296, 296, 296, 296, 296, 296, 296, 296,\n",
       "       296, 296, 296, 297, 297, 297, 297, 297, 297, 297, 297, 297, 297,\n",
       "       297, 297, 297, 297, 297, 297, 297, 297, 297, 297, 297, 297, 297,\n",
       "       297, 297, 298, 298, 298, 298, 298, 298, 298, 298, 298, 298, 298,\n",
       "       298, 298, 298, 298, 298, 298, 298, 298, 298, 298, 298, 298, 298,\n",
       "       298, 299, 299, 299, 299, 299, 299, 299, 299, 299, 299, 299, 299,\n",
       "       299, 299, 299, 299, 299, 299, 299, 299, 299, 299, 299, 300, 300,\n",
       "       300, 300, 300, 300, 300, 300, 300, 300, 300, 300, 300, 300, 300,\n",
       "       300, 300, 300, 300, 300, 300, 300, 300, 301, 301, 301, 301, 301,\n",
       "       301, 301, 301, 301, 301, 301, 301, 301, 301, 301, 301, 301, 301,\n",
       "       301, 301, 301, 301, 301, 302, 302, 302, 302, 302, 302, 302, 302,\n",
       "       302, 302, 302, 302, 302, 302, 302, 302, 302, 302, 302, 302, 302,\n",
       "       302, 302, 303, 303, 303, 303, 303, 303, 303, 303, 303, 303, 303,\n",
       "       303, 303, 303, 303, 303, 303, 303, 303, 303, 303, 304, 304, 304,\n",
       "       304, 304, 304, 304, 304, 304, 304, 304, 304, 304, 304, 304, 304,\n",
       "       304, 304, 304, 304, 304, 305, 305, 305, 305, 305, 305, 305, 305,\n",
       "       305, 305, 305, 305, 305, 305, 305, 305, 305, 305, 305, 306, 306,\n",
       "       306, 306, 306, 306, 306, 306, 306, 306, 306, 306, 306, 306, 306,\n",
       "       306, 306, 307, 307, 307, 307, 307, 307, 307, 307, 307, 307, 307,\n",
       "       307, 307, 307, 307, 308, 308, 308, 308, 308, 308, 308, 308, 308,\n",
       "       308, 308, 309, 309, 309])"
      ]
     },
     "execution_count": 27,
     "metadata": {},
     "output_type": "execute_result"
    }
   ],
   "source": [
    "x"
   ]
  },
  {
   "cell_type": "code",
   "execution_count": 22,
   "metadata": {},
   "outputs": [
    {
     "data": {
      "text/plain": [
       "array([  0.        ,  27.28431202,  28.84300324,  28.84300324,\n",
       "        56.12731526,  56.12731526,  83.41162728,  84.9703185 ,\n",
       "       112.25463052, 113.90236625, 142.74536948, 170.0296815 ,\n",
       "       171.58837272, 198.87268474, 200.43137595, 227.71568798,\n",
       "       255.        ])"
      ]
     },
     "execution_count": 22,
     "metadata": {},
     "output_type": "execute_result"
    }
   ],
   "source": [
    "np.unique(circled_orig_blur)\n"
   ]
  },
  {
   "cell_type": "code",
   "execution_count": 23,
   "metadata": {},
   "outputs": [],
   "source": [
    "newblack = np.zeros(circled_orig_blur.shape)"
   ]
  },
  {
   "cell_type": "code",
   "execution_count": 30,
   "metadata": {},
   "outputs": [],
   "source": [
    "index = (x,y)\n",
    "for i,j in zip(x,y):\n",
    "    newblack[i][j] = 255\n"
   ]
  }
 ],
 "metadata": {
  "kernelspec": {
   "display_name": "Python 3",
   "language": "python",
   "name": "python3"
  },
  "language_info": {
   "codemirror_mode": {
    "name": "ipython",
    "version": 3
   },
   "file_extension": ".py",
   "mimetype": "text/x-python",
   "name": "python",
   "nbconvert_exporter": "python",
   "pygments_lexer": "ipython3",
   "version": "3.6.9"
  }
 },
 "nbformat": 4,
 "nbformat_minor": 2
}
