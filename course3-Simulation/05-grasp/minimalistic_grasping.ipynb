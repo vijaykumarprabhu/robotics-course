{
 "cells": [
  {
   "cell_type": "code",
   "execution_count": 1,
   "metadata": {},
   "outputs": [
    {
     "name": "stdout",
     "output_type": "stream",
     "text": [
      "4.2.0\n"
     ]
    }
   ],
   "source": [
    "import sys\n",
    "sys.path.append('../../build')\n",
    "import cv2 as cv\n",
    "import numpy as np\n",
    "import libry as ry\n",
    "import time\n",
    "# from perception import find_ball\n",
    "print(cv.__version__)"
   ]
  },
  {
   "cell_type": "code",
   "execution_count": 2,
   "metadata": {},
   "outputs": [],
   "source": [
    "#Let's edit the real world before we create the simulation\n",
    "RealWorld = ry.Config()\n",
    "RealWorld.addFile(\"../../scenarios/challenge.g\")\n",
    "V = ry.ConfigurationViewer()\n",
    "V.setConfiguration(RealWorld)"
   ]
  },
  {
   "cell_type": "code",
   "execution_count": 3,
   "metadata": {},
   "outputs": [
    {
     "name": "stdout",
     "output_type": "stream",
     "text": [
      "deleting obj2\n",
      "deleting obj3\n",
      "deleting obj4\n",
      "deleting obj5\n",
      "deleting obj6\n",
      "deleting obj7\n",
      "deleting obj8\n",
      "deleting obj9\n",
      "deleting obj10\n",
      "deleting obj11\n",
      "deleting obj12\n",
      "deleting obj13\n",
      "deleting obj14\n",
      "deleting obj15\n",
      "deleting obj16\n",
      "deleting obj17\n",
      "deleting obj18\n",
      "deleting obj19\n",
      "deleting obj20\n",
      "deleting obj21\n",
      "deleting obj22\n",
      "deleting obj23\n",
      "deleting obj24\n",
      "deleting obj25\n",
      "deleting obj26\n",
      "deleting obj27\n",
      "deleting obj28\n",
      "deleting obj29\n"
     ]
    }
   ],
   "source": [
    "# you can also change the shape & size\n",
    "targetObj=RealWorld.getFrame(\"obj0\")\n",
    "targetObj.setColor([1.,0,0])\n",
    "# targetObj.setShape(ry.ST.sphere, [.03])\n",
    "RealWorld.getFrame(\"obj0\").setShape(ry.ST.ssBox, [.05, .05, .05, .01])\n",
    "targetObj.setPosition([-0.1, .3, 0.7])\n",
    "targetObj.setContact(1)\n",
    "\n",
    "\n",
    "targetObj1=RealWorld.getFrame(\"obj1\")\n",
    "targetObj1.setColor([1.,0,0])\n",
    "# targetObj.setShape(ry.ST.sphere, [.03])\n",
    "RealWorld.getFrame(\"obj1\").setShape(ry.ST.ssBox, [.05, .05, .05, .01])\n",
    "targetObj1.setPosition([0, .0, 1.5])\n",
    "targetObj1.setContact(1)\n",
    "\n",
    "\n",
    "\n",
    "#remove some objects\n",
    "for o in range(2,30):\n",
    "    name = \"obj%i\" % o\n",
    "    print(\"deleting\", name)\n",
    "    RealWorld.delFrame(name)\n",
    "\n",
    "V.recopyMeshes(RealWorld)\n",
    "V.setConfiguration(RealWorld)"
   ]
  },
  {
   "cell_type": "code",
   "execution_count": 4,
   "metadata": {},
   "outputs": [
    {
     "data": {
      "text/plain": [
       "<libry.CameraViewSensor at 0x7f46185eaed8>"
      ]
     },
     "execution_count": 4,
     "metadata": {},
     "output_type": "execute_result"
    }
   ],
   "source": [
    "# instantiate the simulation\n",
    "S = RealWorld.simulation(ry.SimulatorEngine.physx, True)\n",
    "S.addSensor(\"camera\")"
   ]
  },
  {
   "cell_type": "code",
   "execution_count": 5,
   "metadata": {},
   "outputs": [],
   "source": [
    "# create your model world\n",
    "C = ry.Config()\n",
    "C.addFile('../../scenarios/pandasTable.g')\n",
    "#V = ry.ConfigurationViewer()\n",
    "V.setConfiguration(C)\n",
    "cameraFrame = C.frame(\"camera\")\n",
    "\n",
    "#the focal length\n",
    "f = 0.895\n",
    "f = f * 360.\n",
    "fxfypxpy = [f, f, 320., 180.]\n",
    "\n",
    "# save initial background\n",
    "[rgb0, depth0] = S.getImageAndDepth()  #we don't need images with 100Hz, rendering is slow\n",
    "points0 = S.depthData2pointCloud(depth0, fxfypxpy)"
   ]
  },
  {
   "cell_type": "code",
   "execution_count": 6,
   "metadata": {},
   "outputs": [],
   "source": [
    "obj = C.addFrame(\"object\")\n",
    "# obj.setShape(ry.ST.sphere, [.03])\n",
    "obj.setShape(ry.ST.ssBox, [.05, .05, .05, .01])\n",
    "obj.setColor([0,1,0])\n",
    "obj.setContact(1)\n",
    "\n",
    "p_obj = targetObj.getPosition()   \n",
    "r_obj = targetObj.getQuaternion()\n",
    "obj.setPosition(p_obj)\n",
    "obj.setQuaternion(r_obj)\n",
    "\n",
    "obj1 = C.addFrame(\"object1\")\n",
    "# obj.setShape(ry.ST.sphere, [.03])\n",
    "obj1.setShape(ry.ST.ssBox, [.05, .05, .05, .01])\n",
    "obj1.setColor([0,1,0])\n",
    "#obj1.setContact(1)\n",
    "\n",
    "p_obj = targetObj1.getPosition()   \n",
    "r_obj = targetObj1.getQuaternion()\n",
    "obj1.setPosition(p_obj)\n",
    "obj1.setQuaternion(r_obj)\n",
    "\n",
    "V.recopyMeshes(C)\n",
    "V.setConfiguration(C)"
   ]
  },
  {
   "cell_type": "code",
   "execution_count": null,
   "metadata": {},
   "outputs": [],
   "source": []
  },
  {
   "cell_type": "code",
   "execution_count": 7,
   "metadata": {
    "scrolled": true
   },
   "outputs": [
    {
     "name": "stdout",
     "output_type": "stream",
     "text": [
      "0.001776045881849055\n",
      "graspping 70\n",
      "0.001776045881849055\n",
      "opening\n"
     ]
    }
   ],
   "source": [
    "points = []\n",
    "tau = .01\n",
    "t_object = \"object\"\n",
    "closed = 0\n",
    "for t in range(800):\n",
    "    time.sleep(0.01)\n",
    "\n",
    "    #grab sensor readings from the simulation\n",
    "    q = S.get_q()\n",
    "    if t%10 == 0:\n",
    "        [rgb, depth] = S.getImageAndDepth()  #we don't need images with 100Hz, rendering is slow\n",
    "        points = S.depthData2pointCloud(depth, fxfypxpy)\n",
    "       \n",
    "        # skipping perception\n",
    "        p_obj = targetObj.getPosition()   \n",
    "        r_obj = targetObj.getQuaternion()\n",
    "        #obj.setPosition(p_obj)\n",
    "        #obj.setQuaternion(r_obj)\n",
    "        \n",
    "        \n",
    "        p_obj = targetObj1.getPosition()   \n",
    "        r_obj = targetObj1.getQuaternion()\n",
    "        #obj1.setPosition(p_obj)\n",
    "        #obj1.setQuaternion(r_obj)\n",
    "\n",
    "        V.recopyMeshes(C)\n",
    "        V.setConfiguration(C)\n",
    "            \n",
    "    \n",
    "    if not S.getGripperIsGrasping(\"R_gripper\"):\n",
    "        [y,J] = C.evalFeature(ry.distance, [\"R_gripperCenter\", t_object])\n",
    "        #print(abs(y))\n",
    "        if abs(y) < 0.01 and closed == 0:\n",
    "            closed = 1\n",
    "            print(S.getGripperWidth(\"R_gripper\"))\n",
    "            S.closeGripper(\"R_gripper\")\n",
    "            #t_object = \"object1\"\n",
    "            print(\"graspping\", t)\n",
    "            print(S.getGripperWidth(\"R_gripper\"))\n",
    "            \n",
    "    else:\n",
    "        #print(\"while closing \",S.getGripperWidth(\"R_gripper\"))\n",
    "        t_object = \"object1\"\n",
    "        [y,J] = C.evalFeature(ry.distance, [\"R_gripperCenter\", t_object])\n",
    "        if abs(y) < 0.2 and closed == 1:\n",
    "            S.openGripper(\"R_gripper\")\n",
    "            print(\"opening\")\n",
    "            closed = 2\n",
    "        # add a grasping condition\n",
    "        # and utilize\n",
    "        # S.closeGripper(\"R_gripper\")\n",
    "\n",
    "    # you can add your manipulation code here\n",
    "    # Tips, not restricted: compute a one-step komo path\n",
    "    # and compute the configuration q\n",
    "    # komo = C.komo_path(1.,1,tau,True)\n",
    "\n",
    "    if closed != 2 :\n",
    "        komo = C.komo_path(1.,1, tau, True) \n",
    "        komo.clearObjectives()\n",
    "        komo.addObjective([], ry.FS.accumulatedCollisions, [], ry.OT.eq);\n",
    "        komo.addObjective([], ry.FS.jointLimits, [], ry.OT.ineq);\n",
    "        komo.addObjective([1.], ry.FS.positionDiff, [\"R_gripperCenter\",t_object], ry.OT.eq, [1e2])\n",
    "        \n",
    "        if closed == 0:\n",
    "            komo.addObjective([1.], ry.FS.scalarProductXZ, [t_object, \"R_gripperCenter\"], ry.OT.eq, target=[1])\n",
    "            komo.addObjective([1.], ry.FS.scalarProductYZ, [\"R_gripperCenter\", t_object], ry.OT.eq)\n",
    "\n",
    "        komo.addObjective(time=[1.], feature=ry.FS.qItself, type=ry.OT.eq, order=1);\n",
    "        komo.addObjective([], ry.FS.qItself, [\"R_finger1\"], ry.OT.eq, [1e1], order=1)\n",
    "        komo.addObjective([], ry.FS.qItself, [\"R_finger2\"], ry.OT.eq, [1e1], order=1)\n",
    "        komo.optimize()\n",
    "        #komo.getReport()\n",
    "        C.setFrameState( komo.getConfiguration(0))\n",
    "        #V.setConfiguration(C)\n",
    "        q = C.getJointState()  \n",
    "\n",
    "    S.step(q, tau, ry.ControlMode.position)\n",
    "    #S.closeGripper()"
   ]
  }
 ],
 "metadata": {
  "kernelspec": {
   "display_name": "Python 3",
   "language": "python",
   "name": "python3"
  },
  "language_info": {
   "codemirror_mode": {
    "name": "ipython",
    "version": 3
   },
   "file_extension": ".py",
   "mimetype": "text/x-python",
   "name": "python",
   "nbconvert_exporter": "python",
   "pygments_lexer": "ipython3",
   "version": "3.6.9"
  }
 },
 "nbformat": 4,
 "nbformat_minor": 2
}
