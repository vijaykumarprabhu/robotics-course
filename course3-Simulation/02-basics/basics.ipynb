{
 "cells": [
  {
   "cell_type": "markdown",
   "metadata": {},
   "source": [
    "## basic test"
   ]
  },
  {
   "cell_type": "code",
   "execution_count": 95,
   "metadata": {},
   "outputs": [],
   "source": [
    "import sys\n",
    "sys.path.append('../../build')\n",
    "import libry as ry\n",
    "import numpy as np\n",
    "import time"
   ]
  },
  {
   "cell_type": "code",
   "execution_count": 96,
   "metadata": {},
   "outputs": [],
   "source": [
    "#-- REAL WORLD configuration, which is attached to the physics engine\n",
    "# accessing this directly would be cheating!\n",
    "RealWorld = ry.Config()\n",
    "RealWorld.addFile(\"../../scenarios/challenge.g\")"
   ]
  },
  {
   "cell_type": "code",
   "execution_count": 97,
   "metadata": {},
   "outputs": [],
   "source": [
    "S = RealWorld.simulation(ry.SimulatorEngine.physx, True)\n",
    "S.addSensor(\"camera\")"
   ]
  },
  {
   "cell_type": "code",
   "execution_count": 98,
   "metadata": {},
   "outputs": [],
   "source": [
    "#-- MODEL WORLD configuration, this is the data structure on which you represent\n",
    "# what you know about the world and compute things (controls, contacts, etc)\n",
    "C = ry.Config()\n",
    "#D = C.view() #rather use the ConfiguratioViewer below\n",
    "C.addFile(\"../../scenarios/pandasTable.g\")"
   ]
  },
  {
   "cell_type": "code",
   "execution_count": 99,
   "metadata": {},
   "outputs": [],
   "source": [
    "#-- using the viewer, you can view configurations or paths\n",
    "V = ry.ConfigurationViewer()\n",
    "V.setConfiguration(C)"
   ]
  },
  {
   "cell_type": "code",
   "execution_count": 100,
   "metadata": {},
   "outputs": [],
   "source": [
    "#-- the following is the simulation loop\n",
    "tau = .01\n",
    "\n",
    "for t in range(5):\n",
    "    time.sleep(0.01)\n",
    "\n",
    "    #grab sensor readings from the simulation\n",
    "    q = S.get_q()\n",
    "    if t%10 == 0:\n",
    "            [rgb, depth] = S.getImageAndDepth()  #we don't need images with 100Hz, rendering is slow\n",
    "\n",
    "    #some good old fashioned IK\n",
    "    C.setJointState(q) #set your robot model to match the real q\n",
    "    V.setConfiguration(C) #to update your model display\n",
    "    [y,J] = C.evalFeature(ry.FS.position, [\"R_gripper\"])\n",
    "    vel = J.T @ np.linalg.inv(J@J.T + 1e-2*np.eye(y.shape[0])) @ [0.,0.,-1e-1];\n",
    "\n",
    "    #send velocity controls to the simulation\n",
    "    S.step(vel, tau, ry.ControlMode.velocity)"
   ]
  },
  {
   "cell_type": "markdown",
   "metadata": {},
   "source": [
    "## doing things relative to an object"
   ]
  },
  {
   "cell_type": "code",
   "execution_count": 101,
   "metadata": {},
   "outputs": [],
   "source": [
    "# add a new frame to the MODEL configuration\n",
    "# (Perception will later have to do exactly this: add perceived objects to the model)\n",
    "capsule = C.addFrame(\"capsule\")\n",
    "box     = C.addFrame(\"box\")"
   ]
  },
  {
   "cell_type": "code",
   "execution_count": 102,
   "metadata": {},
   "outputs": [],
   "source": [
    "# set frame parameters, associate a shape to the frame, \n",
    "#capsule.setPosition([.8,0,1.5])\n",
    "#capsule.setPosition([0.1,-0.75,1.25])\n",
    "#capsule.setQuaternion([1,0,.5,0])\n",
    "\n"
   ]
  },
  {
   "cell_type": "code",
   "execution_count": 103,
   "metadata": {},
   "outputs": [],
   "source": [
    "Rect_Center = [-0.3,0.4,1.5]\n",
    "Rect_Width  = 0.4\n",
    "Rect_Height = 0.2\n",
    "Rect_Start  = [(Rect_Center[0] - Rect_Width/2), Rect_Center[1]-0.1, (Rect_Center[2] + Rect_Height/2)]"
   ]
  },
  {
   "cell_type": "code",
   "execution_count": 104,
   "metadata": {},
   "outputs": [],
   "source": [
    "#capsule.setPosition([0.3,0,0.8])\n",
    "capsule.setPosition([-0.1,0.2,1.5])\n",
    "capsule.setQuaternion([1,0,0,0])\n",
    "\n",
    "capsule.setShape(ry.ST.capsule, [.2,.02])\n",
    "capsule.setColor([1,0,1])"
   ]
  },
  {
   "cell_type": "code",
   "execution_count": 105,
   "metadata": {},
   "outputs": [],
   "source": [
    "box.setPosition(Rect_Center)\n",
    "box.setQuaternion([1,0,0,0])\n",
    "box.setShape(ry.ST.box, [Rect_Width,0.05,Rect_Height])\n",
    "box.setColor([1,1,0])"
   ]
  },
  {
   "cell_type": "code",
   "execution_count": 106,
   "metadata": {},
   "outputs": [],
   "source": [
    "V.setConfiguration(C)\n",
    "#V.recopyMeshes(C) #this is rarely necessary, only when you change meshes within C"
   ]
  },
  {
   "cell_type": "code",
   "execution_count": 107,
   "metadata": {},
   "outputs": [],
   "source": [
    "def DetectCollision(C):\n",
    "    collisionPresent = False\n",
    "    coll = C.feature(ry.FS.accumulatedCollisions, [])\n",
    "    C.computeCollisions()\n",
    "    coll.eval(C)\n",
    "    Collisions = C.getCollisions(0)\n",
    "    if len(Collisions) > 0:\n",
    "        for i in Collisions:\n",
    "            if ('L_' in i[0] and 'R_' in i[1]) or ('R_' in i[0] and 'L_' in i[1]):\n",
    "                print(i)\n",
    "                collisionPresent = True\n",
    "    return collisionPresent"
   ]
  },
  {
   "cell_type": "code",
   "execution_count": 108,
   "metadata": {},
   "outputs": [],
   "source": [
    "state = 0\n",
    "\n",
    "def DrawRectangle(Rect_Pos):\n",
    "    global state\n",
    "    \n",
    "    if state == 0:\n",
    "        Rect_Pos =  Rect_Start\n",
    "    elif state == 1:\n",
    "        Rect_Pos[0] += Rect_Width\n",
    "    elif state == 2:\n",
    "        Rect_Pos[2] -= Rect_Height\n",
    "    elif state == 3:\n",
    "        Rect_Pos[0] -= Rect_Width\n",
    "    elif state == 4:\n",
    "        Rect_Pos[2] += Rect_Height\n",
    "        \n",
    "    state = (state+1) % 5\n",
    "    return Rect_Pos"
   ]
  },
  {
   "cell_type": "code",
   "execution_count": 109,
   "metadata": {},
   "outputs": [
    {
     "name": "stdout",
     "output_type": "stream",
     "text": [
      "('L_panda_coll7', 'R_finger2', -0.00013082130226798813)\n",
      "Possible Chance of Collision...Terminating\n"
     ]
    }
   ],
   "source": [
    "iteration = 5000\n",
    "tau = .01\n",
    "y_box = np.zeros(3)\n",
    "align = True\n",
    "Rect_Pos = Rect_Start\n",
    "\n",
    "\n",
    "[y_itself ,J_itself]  = C.evalFeature(ry.FS.position, [\"L_lift\"])\n",
    "[y_GripInit ,J_GripInit]  = C.evalFeature(ry.FS.position, [\"L_gripperCenter\"])\n",
    "\n",
    "\n",
    "#-- the following is the simulation loop\n",
    "for t in range(iteration):\n",
    "    y = []\n",
    "    J = []\n",
    "    time.sleep(0.01)\n",
    "\n",
    "    #grab sensor readings from the simulation\n",
    "    q = S.get_q()\n",
    "    if t%10 == 0:\n",
    "            [rgb, depth] = S.getImageAndDepth()  #we don't need images with 100Hz, rendering is slow\n",
    "\n",
    "    #some good old fashioned IK\n",
    "    C.setJointState(q) #set your robot model to match the real q\n",
    "    V.setConfiguration(C) #to update your model display\n",
    "    \n",
    "    # position difference between Right gripper and the capsule\n",
    "    [y_capsule,J_capsule] = C.evalFeature(ry.FS.positionDiff, [\"R_gripperCenter\", \"capsule\"])\n",
    "    \n",
    "    # position difference between Left gripper and the box \n",
    "    #[y_box    ,J_box]     = C.evalFeature(ry.FS.positionDiff, [\"L_gripperCenter\", \"capsule\"])\n",
    "    [y_GripCen    ,J_GripCen]     = C.evalFeature(ry.FS.position, [\"L_gripperCenter\"])\n",
    "    \n",
    "    #y_target = y_GripInit + ((t+1)/iteration) * (Rect_Center - y_GripInit)\n",
    "    # Draw Rectangle\n",
    "    \n",
    "    if(np.linalg.norm(y_box)) < 5e-2:\n",
    "        Rect_Pos = DrawRectangle(Rect_Pos)\n",
    "    \n",
    "    y_box = y_GripCen - Rect_Pos\n",
    "    \n",
    "        \n",
    "    # Make Right gripper parallel to Y axis by making orthogonal to other 2 directions\n",
    "    [y_capZZ, J_capsuleZZ] = C.evalFeature(ry.FS.scalarProductZZ, [\"R_gripperCenter\", \"capsule\"])\n",
    "    [y_capXZ, J_capsuleXZ] = C.evalFeature(ry.FS.scalarProductXZ, [\"R_gripperCenter\", \"capsule\"])\n",
    "    \n",
    "    [y_LGrip  ,J_LGrip]   = C.evalFeature(ry.FS.position, [\"L_lift\"])\n",
    "    \n",
    "    # reach capsule\n",
    "    y = y_capsule/tau\n",
    "    J = J_capsule/tau\n",
    "    \n",
    "    \n",
    "    if align == True:\n",
    "        # make left gripper parallel to Rectangle boundaries\n",
    "        [y_RectZZ, J_RectZZ] = C.evalFeature(ry.FS.scalarProductZZ, [\"box\", \"L_gripperCenter\"])\n",
    "        [y_RectXZ, J_RectXZ] = C.evalFeature(ry.FS.scalarProductXZ, [\"L_gripperCenter\", \"box\"])\n",
    "        \n",
    "        # merge tasks for gripper handle parallel to rectangle\n",
    "        y  = np.concatenate((y ,y_RectZZ/tau,y_RectXZ/tau))\n",
    "        J = np.vstack((J, J_RectZZ/tau, J_RectXZ/tau))\n",
    "\n",
    "    # stay close to initial position\n",
    "    y  = np.concatenate((y ,  (y_LGrip - y_itself)))\n",
    "    J = np.vstack((J,  J_LGrip))    \n",
    "\n",
    "    # merge all tasks\n",
    "    y  = np.concatenate((y , y_capZZ/tau, y_capXZ/tau, y_box/tau))\n",
    "    J = np.vstack((J,  J_capsuleZZ/tau, J_capsuleXZ/tau, J_GripCen/tau))\n",
    "    \n",
    "    CollStatus = DetectCollision(C)\n",
    "    \n",
    "    if CollStatus == True:\n",
    "        print(\"Possible Chance of Collision...Terminating\")\n",
    "        break\n",
    "    \n",
    "    # calculate joint velocities\n",
    "    psudeoInverseJ = J.T @ np.linalg.inv(J@J.T + 1e-2*np.eye(y.shape[0]))\n",
    "    vel =  psudeoInverseJ @ (-y)\n",
    "    \n",
    "    # Directly stop Left gripper lifting\n",
    "    vel[0] = 0\n",
    "    \n",
    "    #send velocity controls to the simulation\n",
    "    S.step(vel, tau, ry.ControlMode.velocity)\n",
    "    \n"
   ]
  },
  {
   "cell_type": "markdown",
   "metadata": {},
   "source": [
    "How could you align the gripper for a proper grasp?"
   ]
  },
  {
   "cell_type": "code",
   "execution_count": 111,
   "metadata": {},
   "outputs": [],
   "source": [
    "S=0\n",
    "V=0\n",
    "C=0\n",
    "RealWorld=0"
   ]
  },
  {
   "cell_type": "code",
   "execution_count": null,
   "metadata": {},
   "outputs": [],
   "source": [
    "#C.getJointNames()\n",
    "Rect_Center"
   ]
  },
  {
   "cell_type": "code",
   "execution_count": null,
   "metadata": {},
   "outputs": [],
   "source": [
    "# Null space motion \n",
    "#delA = np.ones(17) * 0.1\n",
    "#delA[0]=delA[-1] = delA[8] = 0\n",
    "#vel =  psudeoInverseJ @ (-y) + (np.eye(17) - psudeoInverseJ @ J) @ delA;"
   ]
  },
  {
   "cell_type": "code",
   "execution_count": 110,
   "metadata": {},
   "outputs": [
    {
     "data": {
      "text/plain": [
       "'\\n\\n#-- the following is the simulation loop\\ntau = .01\\n\\n#[y_itself ,J_itself]  = C.evalFeature(ry.FS.position, [\"L_gripper\"])\\n\\nfor t in range(500):\\n    y = []\\n    J = []\\n    time.sleep(0.01)\\n\\n    #grab sensor readings from the simulation\\n    q = S.get_q()\\n    if t%10 == 0:\\n            [rgb, depth] = S.getImageAndDepth()  #we don\\'t need images with 100Hz, rendering is slow\\n\\n    #some good old fashioned IK\\n    C.setJointState(q) #set your robot model to match the real q\\n    V.setConfiguration(C) #to update your model display\\n    \\n    [y_capsule,J_capsule] = C.evalFeature(ry.FS.positionDiff, [\"R_gripperCenter\", \"capsule\"])\\n    #[y_box    ,J_box]     = C.evalFeature(ry.FS.positionDiff, [\"L_gripperCenter\", \"box\"])\\n    #[y_LGrip  ,J_LGrip]   = C.evalFeature(ry.FS.position, [\"L_gripper\"])\\n\\n    [y_capZZ, J_capsuleZZ] = C.evalFeature(ry.FS.scalarProductZZ, [\"R_gripperCenter\", \"capsule\"])\\n    [y_capXZ, J_capsuleXZ] = C.evalFeature(ry.FS.scalarProductXZ, [\"R_gripperCenter\", \"capsule\"])\\n    \\n    # merge all tasks\\n    \\n    # reach capsule\\n    y = y_capsule/tau\\n    J = J_capsule/tau\\n    \\n    # stay close to initial position\\n    #y  = np.concatenate((y ,  (y_LGrip - y_itself)))\\n    #J = np.vstack((J,  J_LGrip))    \\n    \\n    # reach box\\n    y  = np.concatenate((y , y_capZZ/tau, y_capXZ/tau, y_box/tau))\\n    J = np.vstack((J,  J_capsuleZZ/tau, J_capsuleXZ/tau, J_box/tau))\\n    \\n    psudeoInverseJ = J.T @ np.linalg.inv(J@J.T + 1e-2*np.eye(y.shape[0]))\\n    \\n    vel =  psudeoInverseJ @ (-y)\\n    \\n    # stop Left gripper lifting\\n    vel[0] = 0\\n    \\n    #send velocity controls to the simulation\\n    S.step(vel, tau, ry.ControlMode.velocity)\\n'"
      ]
     },
     "execution_count": 110,
     "metadata": {},
     "output_type": "execute_result"
    }
   ],
   "source": [
    "# Code with Left gripper picking up object\n",
    "# currently not used\n",
    "\n",
    "'''\n",
    "\n",
    "#-- the following is the simulation loop\n",
    "tau = .01\n",
    "\n",
    "#[y_itself ,J_itself]  = C.evalFeature(ry.FS.position, [\"L_gripper\"])\n",
    "\n",
    "for t in range(500):\n",
    "    y = []\n",
    "    J = []\n",
    "    time.sleep(0.01)\n",
    "\n",
    "    #grab sensor readings from the simulation\n",
    "    q = S.get_q()\n",
    "    if t%10 == 0:\n",
    "            [rgb, depth] = S.getImageAndDepth()  #we don't need images with 100Hz, rendering is slow\n",
    "\n",
    "    #some good old fashioned IK\n",
    "    C.setJointState(q) #set your robot model to match the real q\n",
    "    V.setConfiguration(C) #to update your model display\n",
    "    \n",
    "    [y_capsule,J_capsule] = C.evalFeature(ry.FS.positionDiff, [\"R_gripperCenter\", \"capsule\"])\n",
    "    #[y_box    ,J_box]     = C.evalFeature(ry.FS.positionDiff, [\"L_gripperCenter\", \"box\"])\n",
    "    #[y_LGrip  ,J_LGrip]   = C.evalFeature(ry.FS.position, [\"L_gripper\"])\n",
    "\n",
    "    [y_capZZ, J_capsuleZZ] = C.evalFeature(ry.FS.scalarProductZZ, [\"R_gripperCenter\", \"capsule\"])\n",
    "    [y_capXZ, J_capsuleXZ] = C.evalFeature(ry.FS.scalarProductXZ, [\"R_gripperCenter\", \"capsule\"])\n",
    "    \n",
    "    # merge all tasks\n",
    "    \n",
    "    # reach capsule\n",
    "    y = y_capsule/tau\n",
    "    J = J_capsule/tau\n",
    "    \n",
    "    # stay close to initial position\n",
    "    #y  = np.concatenate((y ,  (y_LGrip - y_itself)))\n",
    "    #J = np.vstack((J,  J_LGrip))    \n",
    "    \n",
    "    # reach box\n",
    "    y  = np.concatenate((y , y_capZZ/tau, y_capXZ/tau, y_box/tau))\n",
    "    J = np.vstack((J,  J_capsuleZZ/tau, J_capsuleXZ/tau, J_box/tau))\n",
    "    \n",
    "    psudeoInverseJ = J.T @ np.linalg.inv(J@J.T + 1e-2*np.eye(y.shape[0]))\n",
    "    \n",
    "    vel =  psudeoInverseJ @ (-y)\n",
    "    \n",
    "    # stop Left gripper lifting\n",
    "    vel[0] = 0\n",
    "    \n",
    "    #send velocity controls to the simulation\n",
    "    S.step(vel, tau, ry.ControlMode.velocity)\n",
    "'''\n"
   ]
  },
  {
   "cell_type": "code",
   "execution_count": null,
   "metadata": {},
   "outputs": [],
   "source": []
  }
 ],
 "metadata": {
  "kernelspec": {
   "display_name": "Python 3",
   "language": "python",
   "name": "python3"
  },
  "language_info": {
   "codemirror_mode": {
    "name": "ipython",
    "version": 3
   },
   "file_extension": ".py",
   "mimetype": "text/x-python",
   "name": "python",
   "nbconvert_exporter": "python",
   "pygments_lexer": "ipython3",
   "version": "3.6.9"
  }
 },
 "nbformat": 4,
 "nbformat_minor": 2
}
