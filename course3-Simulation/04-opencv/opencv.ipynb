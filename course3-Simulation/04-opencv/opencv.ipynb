{
 "cells": [
  {
   "cell_type": "code",
   "execution_count": 4,
   "metadata": {},
   "outputs": [
    {
     "name": "stdout",
     "output_type": "stream",
     "text": [
      "4.2.0\n"
     ]
    }
   ],
   "source": [
    "import sys\n",
    "sys.path.append('../../build')\n",
    "import cv2 as cv\n",
    "import numpy as np\n",
    "import libry as ry\n",
    "import time\n",
    "print(cv.__version__)"
   ]
  },
  {
   "cell_type": "code",
   "execution_count": 5,
   "metadata": {},
   "outputs": [],
   "source": [
    "#-- Add REAL WORLD configuration and camera\n",
    "RealWorld = ry.Config()\n",
    "RealWorld.addFile(\"../../scenarios/challenge.g\")\n",
    "\n",
    "obj1 = RealWorld.frame(\"obj1\")\n",
    "obj1.setColor([1.,.0,.0])\n",
    "\n",
    "S = RealWorld.simulation(ry.SimulatorEngine.physx, True)\n",
    "S.addSensor(\"camera\")\n",
    "\n",
    "C = ry.Config()\n",
    "C.addFile('../../scenarios/pandasTable.g')\n",
    "V = ry.ConfigurationViewer()\n",
    "V.setConfiguration(C)\n",
    "cameraFrame = C.frame(\"camera\")"
   ]
  },
  {
   "cell_type": "code",
   "execution_count": 6,
   "metadata": {},
   "outputs": [],
   "source": [
    "#the focal length\n",
    "f = 0.895\n",
    "f = f * 360.\n",
    "#the relative pose of the camera\n",
    "# pcl.setRelativePose('d(-90 0 0 1) t(-.08 .205 .115) d(26 1 0 0) d(-1 0 1 0) d(6 0 0 1) ')\n",
    "fxfypxpy = [f, f, 320., 180.]"
   ]
  },
  {
   "cell_type": "code",
   "execution_count": 7,
   "metadata": {},
   "outputs": [],
   "source": [
    "points = []\n",
    "tau = .01\n",
    "\n",
    "for t in range(300):\n",
    "    time.sleep(0.01)\n",
    "\n",
    "    #grab sensor readings from the simulation\n",
    "    q = S.get_q()\n",
    "    if t%10 == 0:\n",
    "        [rgb, depth] = S.getImageAndDepth()  #we don't need images with 100Hz, rendering is slow\n",
    "        points = S.depthData2pointCloud(depth, fxfypxpy)\n",
    "        cameraFrame.setPointCloud(points, rgb)\n",
    "        V.recopyMeshes(C)\n",
    "        V.setConfiguration(C)\n",
    "        \n",
    "        # opencv cv2 uses BGR so convert RGB to BGR\n",
    "        bgr = cv.cvtColor(rgb, cv.COLOR_RGB2BGR)\n",
    "        if len(rgb)>0: cv.imshow('OPENCV - rgb', bgr)\n",
    "        if len(depth)>0: cv.imshow('OPENCV - depth', 0.5* depth)\n",
    "        \n",
    "        # filtering red color and segmentation\n",
    "        hsv = cv.cvtColor(bgr, cv.COLOR_BGR2HSV)\n",
    "        \n",
    "        #first red component\n",
    "        lower_red = np.array([0,120,70])\n",
    "        upper_red = np.array([10,255,255])\n",
    "        # create a binary mask , white (255) represents pixel within the given range \n",
    "        mask1 = cv.inRange(hsv, lower_red, upper_red)\n",
    "\n",
    "        # second red component\n",
    "        lower_red = np.array([170,120,70])\n",
    "        upper_red = np.array([180,255,255])\n",
    "        mask2 = cv.inRange(hsv,lower_red,upper_red)\n",
    "\n",
    "        # combine mask ( + does or operation) to generate binary image with white as red color\n",
    "        mask = mask1 + mask2\n",
    "        if len(mask)>0: cv.imshow('OPENCV - binary', mask)\n",
    "        \n",
    "        ## find contours\n",
    "        #cv.RETR_EXTERNAL\n",
    "        contours, hierarchy = cv.findContours(mask, cv.RETR_TREE, cv.CHAIN_APPROX_SIMPLE)\n",
    "        segmented_image = cv.drawContours(bgr, contours, -1, (0, 255, 0), 2)\n",
    "        \n",
    "        if len(segmented_image)>0: cv.imshow('OPENCV - contours', segmented_image)\n",
    "        \n",
    "\n",
    "        if cv.waitKey(1) & 0xFF == ord('q'):\n",
    "            break\n",
    "        \n",
    "    S.step([], tau, ry.ControlMode.none)"
   ]
  },
  {
   "cell_type": "code",
   "execution_count": 8,
   "metadata": {},
   "outputs": [],
   "source": [
    "cv.destroyAllWindows()"
   ]
  },
  {
   "cell_type": "code",
   "execution_count": 9,
   "metadata": {},
   "outputs": [],
   "source": [
    "C=0\n",
    "V=0\n",
    "S=0"
   ]
  },
  {
   "cell_type": "markdown",
   "metadata": {},
   "source": [
    "## segmentation and background difference\n",
    "(but this only gives you an rgb, not depth)\n",
    "hit 'q' in the window to stop"
   ]
  },
  {
   "cell_type": "code",
   "execution_count": 10,
   "metadata": {},
   "outputs": [],
   "source": [
    "time.sleep(3)\n",
    "cap = cv.VideoCapture(0)\n",
    "i = 0\n",
    "\n",
    "ret, background = cap.read()\n",
    "if len(background)>0: cv.imshow('OPENCV - background', background)\n",
    "bgrd_gray = cv.cvtColor(background, cv.COLOR_BGR2GRAY)\n",
    "\n",
    "while(True):\n",
    "    # Capture frame-by-frame\n",
    "    ret, frame = cap.read()\n",
    "    \n",
    "    # Display the resulting frame\n",
    "    if len(frame)>0: cv.imshow('frame',frame)\n",
    "    \n",
    "    # Our operations on the frame come here    \n",
    "    gray = cv.cvtColor(frame, cv.COLOR_BGR2GRAY)\n",
    "    \n",
    "    ## can use Subtractor MOG2 \n",
    "    difference = cv.absdiff(bgrd_gray, gray)\n",
    "    #can use adaptive threshold \n",
    "    _, difference = cv.threshold(difference, 25, 255, cv.THRESH_BINARY)\n",
    "    cv.imshow(\"difference\", difference)\n",
    "    \n",
    "    contours, hierarchy = cv.findContours(difference, cv.RETR_TREE, cv.CHAIN_APPROX_SIMPLE)\n",
    "    segmented_image = cv.drawContours(frame, contours, -1, (0, 255, 0), 2)\n",
    "    if len(segmented_image)>0: cv.imshow('OPENCV - contours', segmented_image)\n",
    "    \n",
    "    \n",
    "    \n",
    "    if cv.waitKey(1) & 0xFF == ord('q'):\n",
    "        break\n",
    "# When everything done, release the capture\n",
    "cap.release()\n",
    "cv.destroyAllWindows()"
   ]
  },
  {
   "cell_type": "markdown",
   "metadata": {},
   "source": [
    "## With Gaussian Blur"
   ]
  },
  {
   "cell_type": "code",
   "execution_count": 11,
   "metadata": {},
   "outputs": [],
   "source": [
    "time.sleep(3)\n",
    "cap = cv.VideoCapture(0)\n",
    "i = 0\n",
    "\n",
    "ret, background = cap.read()\n",
    "if len(background)>0: cv.imshow('OPENCV - background', background)\n",
    "bgrd_gray = cv.cvtColor(background, cv.COLOR_BGR2GRAY)\n",
    "bgrd_gray = cv.GaussianBlur(bgrd_gray, (5, 5), 0)\n",
    "\n",
    "while(True):\n",
    "    # Capture frame-by-frame\n",
    "    ret, frame = cap.read()\n",
    "    \n",
    "    # Display the resulting frame\n",
    "    if len(frame)>0: cv.imshow('frame',frame)\n",
    "    \n",
    "    # Our operations on the frame come here    \n",
    "    gray = cv.cvtColor(frame, cv.COLOR_BGR2GRAY)\n",
    "    gray = cv.GaussianBlur(gray, (5, 5), 0)\n",
    "    \n",
    "    ## can use Subtractor MOG2 \n",
    "    difference = cv.absdiff(bgrd_gray, gray)\n",
    "    #can use adaptive threshold \n",
    "    _, difference = cv.threshold(difference, 25, 255, cv.THRESH_BINARY)\n",
    "    cv.imshow(\"difference\", difference)\n",
    "\n",
    "    ## find contours\n",
    "    #cv.RETR_EXTERNAL\n",
    "    contours, hierarchy = cv.findContours(difference, cv.RETR_TREE, cv.CHAIN_APPROX_SIMPLE)\n",
    "    segmented_image = cv.drawContours(frame, contours, -1, (0, 255, 0), 2)\n",
    "    if len(segmented_image)>0: cv.imshow('OPENCV - contours', segmented_image)\n",
    "    \n",
    "    if cv.waitKey(1) & 0xFF == ord('q'):\n",
    "        break\n",
    "# When everything done, release the capture\n",
    "cap.release()\n",
    "cv.destroyAllWindows()"
   ]
  },
  {
   "cell_type": "code",
   "execution_count": null,
   "metadata": {},
   "outputs": [],
   "source": []
  }
 ],
 "metadata": {
  "kernelspec": {
   "display_name": "Python 3",
   "language": "python",
   "name": "python3"
  },
  "language_info": {
   "codemirror_mode": {
    "name": "ipython",
    "version": 3
   },
   "file_extension": ".py",
   "mimetype": "text/x-python",
   "name": "python",
   "nbconvert_exporter": "python",
   "pygments_lexer": "ipython3",
   "version": "3.6.9"
  }
 },
 "nbformat": 4,
 "nbformat_minor": 2
}
